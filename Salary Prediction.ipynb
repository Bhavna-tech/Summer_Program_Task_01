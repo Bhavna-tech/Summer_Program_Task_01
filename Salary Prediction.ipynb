{
 "cells": [
  {
   "cell_type": "code",
   "execution_count": null,
   "id": "9e40fa2b",
   "metadata": {},
   "outputs": [],
   "source": [
    "import pandas"
   ]
  },
  {
   "cell_type": "code",
   "execution_count": null,
   "id": "798714ee",
   "metadata": {},
   "outputs": [],
   "source": [
    "import numpy"
   ]
  },
  {
   "cell_type": "code",
   "execution_count": null,
   "id": "e1240d28",
   "metadata": {},
   "outputs": [],
   "source": [
    "#load data set\n",
    "ds = pandas.read_csv('Salary_Data.csv')"
   ]
  },
  {
   "cell_type": "code",
   "execution_count": null,
   "id": "ff306c53",
   "metadata": {},
   "outputs": [],
   "source": [
    "ds.columns"
   ]
  },
  {
   "cell_type": "code",
   "execution_count": null,
   "id": "de0776ae",
   "metadata": {},
   "outputs": [],
   "source": [
    "X = ds['YearsExperience'].values.reshape(30,1)"
   ]
  },
  {
   "cell_type": "code",
   "execution_count": null,
   "id": "746c88eb",
   "metadata": {},
   "outputs": [],
   "source": [
    "Y = ds['Salary']"
   ]
  },
  {
   "cell_type": "code",
   "execution_count": null,
   "id": "e31e04f6",
   "metadata": {},
   "outputs": [],
   "source": [
    "from sklearn.linear_model import LinearRegression"
   ]
  },
  {
   "cell_type": "code",
   "execution_count": null,
   "id": "540bbdfc",
   "metadata": {},
   "outputs": [],
   "source": [
    "#empty model\n",
    "model = LinearRegression()"
   ]
  },
  {
   "cell_type": "code",
   "execution_count": null,
   "id": "507a3385",
   "metadata": {},
   "outputs": [],
   "source": [
    "model.fit(X,Y)"
   ]
  },
  {
   "cell_type": "code",
   "execution_count": null,
   "id": "0c01ce48",
   "metadata": {},
   "outputs": [],
   "source": [
    "#take input from candidate\n",
    "exp = int(input(\"\\n Enter candidate's experience in years :\"))"
   ]
  },
  {
   "cell_type": "code",
   "execution_count": null,
   "id": "cf40cfee",
   "metadata": {},
   "outputs": [],
   "source": [
    "#predicted value\n",
    "salary = model.predict([[exp]])"
   ]
  },
  {
   "cell_type": "code",
   "execution_count": null,
   "id": "040e5fe1",
   "metadata": {},
   "outputs": [],
   "source": [
    "print(\"\\n The salary of candidate is \",salary)"
   ]
  },
  {
   "cell_type": "code",
   "execution_count": null,
   "id": "8e8ea6e5",
   "metadata": {},
   "outputs": [],
   "source": [
    "#value of coefficient\n",
    "coef = model.coef_"
   ]
  },
  {
   "cell_type": "code",
   "execution_count": null,
   "id": "efcb62ad",
   "metadata": {},
   "outputs": [],
   "source": [
    "print(\"\\n The value of coefficient is \",coef)"
   ]
  },
  {
   "cell_type": "code",
   "execution_count": null,
   "id": "b6eed213",
   "metadata": {},
   "outputs": [],
   "source": [
    "import joblib"
   ]
  },
  {
   "cell_type": "code",
   "execution_count": null,
   "id": "de4f9ed8",
   "metadata": {},
   "outputs": [],
   "source": [
    "joblib.dump(model,'salary.pk1')"
   ]
  },
  {
   "cell_type": "code",
   "execution_count": null,
   "id": "91aba5e2",
   "metadata": {},
   "outputs": [],
   "source": [
    "print(\"\\n Saved the trained model!\")"
   ]
  },
  {
   "cell_type": "code",
   "execution_count": null,
   "id": "2621f150",
   "metadata": {},
   "outputs": [],
   "source": []
  }
 ],
 "metadata": {
  "kernelspec": {
   "display_name": "Python 3",
   "language": "python",
   "name": "python3"
  },
  "language_info": {
   "codemirror_mode": {
    "name": "ipython",
    "version": 3
   },
   "file_extension": ".py",
   "mimetype": "text/x-python",
   "name": "python",
   "nbconvert_exporter": "python",
   "pygments_lexer": "ipython3",
   "version": "3.8.8"
  }
 },
 "nbformat": 4,
 "nbformat_minor": 5
}
