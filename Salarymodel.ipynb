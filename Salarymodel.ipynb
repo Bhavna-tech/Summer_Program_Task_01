{
 "cells": [
  {
   "cell_type": "code",
   "execution_count": null,
   "id": "33908159",
   "metadata": {},
   "outputs": [],
   "source": [
    "import pandas"
   ]
  },
  {
   "cell_type": "code",
   "execution_count": null,
   "id": "c936852a",
   "metadata": {},
   "outputs": [],
   "source": [
    "import os"
   ]
  },
  {
   "cell_type": "code",
   "execution_count": null,
   "id": "52154abd",
   "metadata": {},
   "outputs": [],
   "source": [
    "import numpy"
   ]
  },
  {
   "cell_type": "code",
   "execution_count": null,
   "id": "2b33212d",
   "metadata": {},
   "outputs": [],
   "source": [
    "import joblib"
   ]
  },
  {
   "cell_type": "code",
   "execution_count": null,
   "id": "4f2e9493",
   "metadata": {},
   "outputs": [],
   "source": [
    "from sklearn.linear_model import LinearRegression"
   ]
  },
  {
   "cell_type": "code",
   "execution_count": null,
   "id": "4661ef82",
   "metadata": {},
   "outputs": [],
   "source": [
    "ds = pandas.read_csv(\"SalaryData.csv\")"
   ]
  },
  {
   "cell_type": "code",
   "execution_count": null,
   "id": "1332560e",
   "metadata": {},
   "outputs": [],
   "source": [
    "X = ds[\"YearsExperience\"].values.reshape(30,1)\n"
   ]
  },
  {
   "cell_type": "code",
   "execution_count": null,
   "id": "6f4bf82e",
   "metadata": {},
   "outputs": [],
   "source": [
    "Y = ds[\"Salary\"]"
   ]
  },
  {
   "cell_type": "code",
   "execution_count": null,
   "id": "db1e14db",
   "metadata": {},
   "outputs": [],
   "source": [
    "mind = LinearRegression()\n",
    "mind.fit(X,Y)"
   ]
  },
  {
   "cell_type": "code",
   "execution_count": null,
   "id": "a32f8700",
   "metadata": {},
   "outputs": [],
   "source": [
    "print(\"\\n-----------------------WELCOME-------------------\\n\")"
   ]
  },
  {
   "cell_type": "code",
   "execution_count": null,
   "id": "d542157f",
   "metadata": {},
   "outputs": [],
   "source": [
    "print(\"Let's predict your pay - \\n\")"
   ]
  },
  {
   "cell_type": "code",
   "execution_count": null,
   "id": "211aeb0e",
   "metadata": {},
   "outputs": [],
   "source": [
    "exp = int(input(\"Enter your experience : \"))"
   ]
  },
  {
   "cell_type": "code",
   "execution_count": null,
   "id": "3d2070be",
   "metadata": {},
   "outputs": [],
   "source": [
    "pay = mind.predict([[exp]])"
   ]
  },
  {
   "cell_type": "code",
   "execution_count": null,
   "id": "e8a39c35",
   "metadata": {},
   "outputs": [],
   "source": [
    "print(\"Your salary is :\")\n",
    "print(pay)"
   ]
  },
  {
   "cell_type": "code",
   "execution_count": null,
   "id": "6d3308e8",
   "metadata": {},
   "outputs": [],
   "source": [
    "joblib.dump(mind,'Salarymodel.pk1')"
   ]
  },
  {
   "cell_type": "code",
   "execution_count": null,
   "id": "c6496485",
   "metadata": {},
   "outputs": [],
   "source": []
  }
 ],
 "metadata": {
  "kernelspec": {
   "display_name": "Python 3",
   "language": "python",
   "name": "python3"
  },
  "language_info": {
   "codemirror_mode": {
    "name": "ipython",
    "version": 3
   },
   "file_extension": ".py",
   "mimetype": "text/x-python",
   "name": "python",
   "nbconvert_exporter": "python",
   "pygments_lexer": "ipython3",
   "version": "3.8.8"
  }
 },
 "nbformat": 4,
 "nbformat_minor": 5
}
