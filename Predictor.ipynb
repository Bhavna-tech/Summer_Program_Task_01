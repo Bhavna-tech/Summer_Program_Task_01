{
 "cells": [
  {
   "cell_type": "code",
   "execution_count": 1,
   "id": "897b40d9",
   "metadata": {},
   "outputs": [],
   "source": [
    "import joblib"
   ]
  },
  {
   "cell_type": "code",
   "execution_count": 2,
   "id": "0d92a32f",
   "metadata": {},
   "outputs": [
    {
     "name": "stdout",
     "output_type": "stream",
     "text": [
      "\n",
      " -----------------SALARY PREDICTION------------------\n",
      "\n"
     ]
    }
   ],
   "source": [
    "print(\"\\n -----------------SALARY PREDICTION------------------\\n\")"
   ]
  },
  {
   "cell_type": "code",
   "execution_count": 4,
   "id": "33c0c2f8",
   "metadata": {},
   "outputs": [],
   "source": [
    "#load tained model\n",
    "model = joblib.load('salary.pk1')"
   ]
  },
  {
   "cell_type": "code",
   "execution_count": null,
   "id": "488c9218",
   "metadata": {},
   "outputs": [],
   "source": [
    "while(1):\n",
    "    exp = int(input('\\tEnter candidate\\'s experience: '))\n",
    "\n",
    "    #Prediction\n",
    "    predicted = model.predict([[exp]])\n",
    "\n",
    "    print(\"Candidate's salaray will be \",predicted)\n",
    "    ch = input(\"\\nDo you want to continue (Y|N):\")\n",
    "    ch = ch.capitalize()\n",
    "    if ch != 'N':\n",
    "        print(\"\\n\\tExiting the program .........\")\n",
    "        exit()"
   ]
  },
  {
   "cell_type": "code",
   "execution_count": null,
   "id": "7dae4e2b",
   "metadata": {},
   "outputs": [],
   "source": []
  }
 ],
 "metadata": {
  "kernelspec": {
   "display_name": "Python 3",
   "language": "python",
   "name": "python3"
  },
  "language_info": {
   "codemirror_mode": {
    "name": "ipython",
    "version": 3
   },
   "file_extension": ".py",
   "mimetype": "text/x-python",
   "name": "python",
   "nbconvert_exporter": "python",
   "pygments_lexer": "ipython3",
   "version": "3.8.8"
  }
 },
 "nbformat": 4,
 "nbformat_minor": 5
}
